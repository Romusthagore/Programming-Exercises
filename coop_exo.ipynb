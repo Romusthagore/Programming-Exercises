{
 "cells": [
  {
   "cell_type": "code",
   "execution_count": null,
   "id": "03a311ee",
   "metadata": {},
   "outputs": [],
   "source": []
  },
  {
   "cell_type": "code",
   "execution_count": 7,
   "id": "c41836b5",
   "metadata": {},
   "outputs": [
    {
     "name": "stdout",
     "output_type": "stream",
     "text": [
      "(4, 4)\n",
      "(6, 2)\n",
      "(0, 8)\n",
      "(3, 5)\n"
     ]
    }
   ],
   "source": [
    "x=[23,76,4,6,9,0,3,12,43,7,8,10,4,5,2]\n",
    "value=8\n",
    "for i in range(len(x)):\n",
    "    for j in range(i+1,len(x)):\n",
    "        if x[i]+x[j]==value:\n",
    "            y=(x[i],x[j])\n",
    "            print(y)  "
   ]
  },
  {
   "cell_type": "code",
   "execution_count": null,
   "id": "dd6fc6f2",
   "metadata": {},
   "outputs": [],
   "source": []
  },
  {
   "cell_type": "code",
   "execution_count": 1,
   "id": "04711c30",
   "metadata": {},
   "outputs": [
    {
     "data": {
      "text/plain": [
       "(99, [2, 4, 9, 65, 9, 6, 4])"
      ]
     },
     "execution_count": 1,
     "metadata": {},
     "output_type": "execute_result"
    }
   ],
   "source": [
    "x=[1,2,4,9,65,9,6,4]\n",
    "x.remove(min(x))\n",
    "a=sum(x)\n",
    "a,x"
   ]
  },
  {
   "cell_type": "code",
   "execution_count": null,
   "id": "06832355",
   "metadata": {},
   "outputs": [],
   "source": []
  }
 ],
 "metadata": {
  "kernelspec": {
   "display_name": "Python 3 (ipykernel)",
   "language": "python",
   "name": "python3"
  },
  "language_info": {
   "codemirror_mode": {
    "name": "ipython",
    "version": 3
   },
   "file_extension": ".py",
   "mimetype": "text/x-python",
   "name": "python",
   "nbconvert_exporter": "python",
   "pygments_lexer": "ipython3",
   "version": "3.11.2"
  }
 },
 "nbformat": 4,
 "nbformat_minor": 5
}
